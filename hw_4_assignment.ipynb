{
 "cells": [
  {
   "cell_type": "markdown",
   "metadata": {},
   "source": [
    "### Homework Assignment #4\n",
    "#### Nicholas Kern\n",
    "#### 9/30/16"
   ]
  },
  {
   "cell_type": "code",
   "execution_count": 1,
   "metadata": {
    "collapsed": false
   },
   "outputs": [],
   "source": [
    "from random import uniform\n",
    "from numpy import logspace, array\n",
    "from math import sqrt\n",
    "from time import time,sleep\n",
    "import multiprocessing as mult\n",
    "import threading as thread\n",
    "from ipyparallel import Client\n",
    "from ipyparallel.util import interactive\n",
    "from os import system\n",
    "from Queue import Queue"
   ]
  },
  {
   "cell_type": "code",
   "execution_count": 2,
   "metadata": {
    "collapsed": false
   },
   "outputs": [
    {
     "name": "stdout",
     "output_type": "stream",
     "text": [
      "Pi Approx: 3.162\n",
      "N_darts: 10000\n",
      "Execution Time (s): 0.0486540794373\n",
      "Darts Thrown / Sec: 205532.611359\n"
     ]
    }
   ],
   "source": [
    "def throw(N_darts,verbose=False):\n",
    "    # Initialize\n",
    "    N_darts = int(N_darts)\n",
    "    hit = 0\n",
    "    \n",
    "    start = time()\n",
    "    \n",
    "    # Loop\n",
    "    for n in range(N_darts):\n",
    "        x,y = uniform(0,1), uniform(0,1)\n",
    "        if sqrt((x-0.5)**2 + (y-0.5)**2) <= 0.5:\n",
    "            hit += 1\n",
    "    \n",
    "    end = time()\n",
    "    ellapsed = end-start\n",
    "    rate = float(N_darts) / ellapsed\n",
    "    \n",
    "    pi_approx = 4 * float(hit) / N_darts\n",
    "    \n",
    "    if verbose == True:\n",
    "        print \"Pi Approx:\", pi_approx\n",
    "        print \"N_darts:\", N_darts\n",
    "        print \"Execution Time (s):\",ellapsed\n",
    "        print \"Darts Thrown / Sec:\", rate\n",
    "    return ellapsed, rate\n",
    "\n",
    "result = throw(1e4,verbose=True)"
   ]
  },
  {
   "cell_type": "code",
   "execution_count": 3,
   "metadata": {
    "collapsed": false
   },
   "outputs": [],
   "source": [
    "dart_range = logspace(3,5,20)"
   ]
  },
  {
   "cell_type": "code",
   "execution_count": 7,
   "metadata": {
    "collapsed": false
   },
   "outputs": [],
   "source": [
    "# Naive direct evaluation\n",
    "result_naive = array(map(throw,dart_range))"
   ]
  },
  {
   "cell_type": "code",
   "execution_count": 5,
   "metadata": {
    "collapsed": false
   },
   "outputs": [],
   "source": [
    "# Multiprocess with Pool\n",
    "iterate = False\n",
    "if iterate == True:\n",
    "    result_pool = array([array(mult.Pool(4).map(throw,dart_range)) for i in range(10)]).T\n",
    "else:\n",
    "    result_pool = array(mult.Pool(4).map(throw,dart_range))"
   ]
  },
  {
   "cell_type": "code",
   "execution_count": 11,
   "metadata": {
    "collapsed": false
   },
   "outputs": [
    {
     "name": "stdout",
     "output_type": "stream",
     "text": [
      "[[], [], [], [], [], [], [], [], [], [], [], []]\n"
     ]
    }
   ],
   "source": [
    "indices = array([[0,3,6,9],[1,4,7,10],[2,5,8,11]])\n",
    "result = [[] for i in range(indices.size)]\n",
    "print result"
   ]
  },
  {
   "cell_type": "code",
   "execution_count": 37,
   "metadata": {
    "collapsed": false
   },
   "outputs": [],
   "source": [
    "# Threading\n",
    "class map_thread(object):\n",
    "    def __init__(self,N_threads,thread_data,thread_data_indices):\n",
    "        self.threads = []\n",
    "        for i in range(N_threads):\n",
    "            t = thread.Thread(target=self.worker,args=(thread_data,str(i)))\n",
    "            self.threads.append(t)\n",
    "            \n",
    "        # Run\n",
    "        self.start()\n",
    "        \n",
    "        # Get results\n",
    "        self.collect_results(thread_data_indices)\n",
    "    \n",
    "    def worker(self,data,thread_id):\n",
    "        # Brute Force for each thread\n",
    "        result = array(map(throw,thread_data))\n",
    "        self.__dict__['thread_'+thread_id+'_result'] = result\n",
    "    \n",
    "    def start(self):\n",
    "        # Start threads\n",
    "        for t in self.threads:\n",
    "            t.start()\n",
    "            \n",
    "    def collect_results(self,indices):\n",
    "        # Wait for finish\n",
    "        for t in self.threads:\n",
    "            t.join()\n",
    "        \n",
    "        # Compile results\n",
    "        result = [[] for i in range(indices.size)]\n",
    "        for i in range(len(indices)):\n",
    "            for j in range(len(indices[i])):\n",
    "                result[indices[i][j]] = self.__dict__['thread_'+str(i)+'_result'][j]\n",
    "        \n",
    "        return array(result)"
   ]
  },
  {
   "cell_type": "code",
   "execution_count": 25,
   "metadata": {
    "collapsed": false
   },
   "outputs": [
    {
     "name": "stdout",
     "output_type": "stream",
     "text": [
      "Worker: 0\n",
      "Worker: 1\n",
      "Worker: 2\n",
      "Worker: 3\n",
      "Worker: 4\n"
     ]
    }
   ],
   "source": [
    "def worker(num):\n",
    "    \"\"\"thread worker function\"\"\"\n",
    "    print('Worker: %s' % num)\n",
    "    sleep(10)\n",
    "    return\n",
    "\n",
    "threads = []\n",
    "for i in range(5):\n",
    "    t = thread.Thread(target=worker, args=(i,))\n",
    "    threads.append(t)\n",
    "    t.start()"
   ]
  },
  {
   "cell_type": "code",
   "execution_count": 26,
   "metadata": {
    "collapsed": false
   },
   "outputs": [],
   "source": [
    "t.join()"
   ]
  },
  {
   "cell_type": "code",
   "execution_count": null,
   "metadata": {
    "collapsed": true
   },
   "outputs": [],
   "source": []
  },
  {
   "cell_type": "code",
   "execution_count": null,
   "metadata": {
    "collapsed": true
   },
   "outputs": [],
   "source": []
  },
  {
   "cell_type": "code",
   "execution_count": null,
   "metadata": {
    "collapsed": true
   },
   "outputs": [],
   "source": []
  },
  {
   "cell_type": "code",
   "execution_count": 3,
   "metadata": {
    "collapsed": false
   },
   "outputs": [],
   "source": [
    "# Outside of the notebook, you need to start engines\n",
    "# Do this from a fresh terminal shell via \"bash ipcluster_start.sh\""
   ]
  },
  {
   "cell_type": "code",
   "execution_count": 50,
   "metadata": {
    "collapsed": false
   },
   "outputs": [],
   "source": [
    "run throw_darts.py"
   ]
  },
  {
   "cell_type": "code",
   "execution_count": 51,
   "metadata": {
    "collapsed": false
   },
   "outputs": [],
   "source": [
    "# ipyparallel\n",
    "c = Client()\n",
    "view = c[:]"
   ]
  },
  {
   "cell_type": "code",
   "execution_count": 62,
   "metadata": {
    "collapsed": false
   },
   "outputs": [],
   "source": [
    "result_ipy = array(view.map(throw,dart_range).result())"
   ]
  },
  {
   "cell_type": "code",
   "execution_count": 5,
   "metadata": {
    "collapsed": false
   },
   "outputs": [],
   "source": [
    "# Plot\n",
    "import numpy as np\n",
    "%matplotlib inline\n",
    "import matplotlib\n",
    "import matplotlib.pyplot as mp\n",
    "import scipy.stats as stats"
   ]
  },
  {
   "cell_type": "code",
   "execution_count": 2,
   "metadata": {
    "collapsed": false
   },
   "outputs": [
    {
     "name": "stdout",
     "output_type": "stream",
     "text": [
      "2010 MacBook Pro 2.4 GHz Intel Core 2 Duo\n"
     ]
    }
   ],
   "source": [
    "print \"2010 MacBook Pro 2.4 GHz Intel Core 2 Duo\""
   ]
  },
  {
   "cell_type": "code",
   "execution_count": 71,
   "metadata": {
    "collapsed": false
   },
   "outputs": [
    {
     "data": {
      "text/plain": [
       "<matplotlib.legend.Legend at 0x111b571d0>"
      ]
     },
     "execution_count": 71,
     "metadata": {},
     "output_type": "execute_result"
    },
    {
     "data": {
      "image/png": "[encoded data removed]",
      "text/plain": [
       "<matplotlib.figure.Figure at 0x110a78a90>"
      ]
     },
     "metadata": {},
     "output_type": "display_data"
    }
   ],
   "source": [
    "# Plot it!\n",
    "fig = mp.figure(figsize=(8,8))\n",
    "ax1 = fig.add_subplot(111)\n",
    "ax2 = ax1.twinx()\n",
    "ax1.set_xscale('log')\n",
    "ax1.set_yscale('log')\n",
    "ax2.set_yscale('log')\n",
    "ax1.tick_params(which='major',length=15)\n",
    "ax1.tick_params(which='minor',length=7)\n",
    "ax1.set_xlabel(r'Darts Thrown',fontsize=15)\n",
    "ax1.set_ylabel(r'Execution Time (sec)',fontsize=15)\n",
    "ax2.set_ylabel(r'Rate (darts/sec)',fontsize=15)\n",
    "ax1.set_ylim(1e-3,1e2)\n",
    "ax2.set_ylim(1e4,1e7)\n",
    "\n",
    "p0, = ax1.plot(dart_range,result_pool.T[0],color='b',linewidth=2,alpha=0.5)\n",
    "p1, = ax1.plot(dart_range,result_thread.T[0],color='g',linewidth=2,alpha=0.5)\n",
    "p2, = ax1.plot(dart_range,result_ipy.T[0],color='r',linewidth=2,alpha=0.5)\n",
    "p3, = ax1.plot(dart_range,result_naive.T[0],color='m',linewidth=2,alpha=0.5)\n",
    "\n",
    "p4, = ax2.plot(dart_range,result_pool.T[1],color='b',linewidth=2,alpha=0.5,linestyle='--')\n",
    "p5, = ax2.plot(dart_range,result_thread.T[1],color='g',linewidth=2,alpha=0.5,linestyle='--')\n",
    "p6, = ax2.plot(dart_range,result_ipy.T[1],color='r',linewidth=2,alpha=0.5,linestyle='--')\n",
    "p7, = ax2.plot(dart_range,result_naive.T[1],color='m',linewidth=2,alpha=0.5,linestyle='--')\n",
    "ax1.legend([p0,p1,p2,p3],['Multiprocessing','Threading','IpyParallel','Naive Direct'],loc=2)"
   ]
  },
  {
   "cell_type": "code",
   "execution_count": null,
   "metadata": {
    "collapsed": true
   },
   "outputs": [],
   "source": []
  }
 ],
 "metadata": {
  "anaconda-cloud": {},
  "kernelspec": {
   "display_name": "Python [Root]",
   "language": "python",
   "name": "Python [Root]"
  },
  "language_info": {
   "codemirror_mode": {
    "name": "ipython",
    "version": 2
   },
   "file_extension": ".py",
   "mimetype": "text/x-python",
   "name": "python",
   "nbconvert_exporter": "python",
   "pygments_lexer": "ipython2",
   "version": "2.7.12"
  }
 },
 "nbformat": 4,
 "nbformat_minor": 0
}
